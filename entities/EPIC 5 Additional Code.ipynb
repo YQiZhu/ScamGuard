{
 "cells": [
  {
   "cell_type": "code",
   "execution_count": null,
   "id": "53ac2cf9",
   "metadata": {},
   "outputs": [],
   "source": [
    "# ACC5.1\n",
    "\n",
    "# to place before creation of ac51_json_data file\n",
    "\n",
    "# Define the mapping dictionary for partial replacements\n",
    "scam_type_mapping = {\n",
    "    'Attempts to gain your personal information': 'Personal Info',\n",
    "    'Buying or selling': 'Buy/Sell',\n",
    "    'Dating and romance': 'Romance',\n",
    "    'Investment scams': 'Investment',\n",
    "    'Jobs and employment': 'Job'\n",
    "}\n",
    "\n",
    "# Replace the partial strings in 'Scam Type' column\n",
    "for key, value in scam_type_mapping.items():\n",
    "    ac51_selected['Scam Type'] = ac51_selected['Scam Type'].str.replace(key, value, regex=False)"
   ]
  },
  {
   "cell_type": "code",
   "execution_count": null,
   "id": "89ba4a57",
   "metadata": {},
   "outputs": [],
   "source": [
    "# ACC5.2\n",
    "\n",
    "# to place before creation of ac52_json_data file\n",
    "\n",
    "# Define the mapping dictionary for partial replacements\n",
    "scam_type_mapping = {\n",
    "    'Attempts to gain your personal information': 'Personal Info',\n",
    "    'Buying or selling': 'Buy/Sell',\n",
    "    'Dating and romance': 'Romance',\n",
    "    'Investment scams': 'Investment',\n",
    "    'Jobs and employment': 'Job'\n",
    "}\n",
    "\n",
    "# Replace the partial strings in 'Scam Type' column\n",
    "for key, value in scam_type_mapping.items():\n",
    "    ac52_selected['Scam Type'] = ac52_selected['Scam Type'].str.replace(key, value, regex=False)"
   ]
  }
 ],
 "metadata": {
  "kernelspec": {
   "display_name": "Python 3 (ipykernel)",
   "language": "python",
   "name": "python3"
  },
  "language_info": {
   "codemirror_mode": {
    "name": "ipython",
    "version": 3
   },
   "file_extension": ".py",
   "mimetype": "text/x-python",
   "name": "python",
   "nbconvert_exporter": "python",
   "pygments_lexer": "ipython3",
   "version": "3.11.4"
  }
 },
 "nbformat": 4,
 "nbformat_minor": 5
}
